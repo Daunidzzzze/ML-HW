{
 "cells": [
  {
   "cell_type": "code",
   "execution_count": 10,
   "id": "3778e921",
   "metadata": {},
   "outputs": [],
   "source": [
    "# Импортирование необходимых библиотек"
   ]
  },
  {
   "cell_type": "code",
   "execution_count": 11,
   "id": "9f81c702",
   "metadata": {},
   "outputs": [],
   "source": [
    "import numpy as np\n",
    "import matplotlib.pyplot as plt\n",
    "import pandas as pd\n",
    "\n",
    "from sklearn.datasets import load_iris\n",
    "from sklearn.model_selection import train_test_split\n",
    "from sklearn import svm\n",
    "from sklearn.metrics import accuracy_score"
   ]
  },
  {
   "cell_type": "code",
   "execution_count": 12,
   "id": "f4d85bfe",
   "metadata": {},
   "outputs": [],
   "source": [
    "# Загрузка набора данных Iris"
   ]
  },
  {
   "cell_type": "code",
   "execution_count": 13,
   "id": "4be8bc4d",
   "metadata": {},
   "outputs": [],
   "source": [
    "iris = load_iris()"
   ]
  },
  {
   "cell_type": "code",
   "execution_count": 14,
   "id": "1024528f",
   "metadata": {},
   "outputs": [],
   "source": [
    "# Определение признаков (features) и меток (labels) целевой переменной"
   ]
  },
  {
   "cell_type": "code",
   "execution_count": 15,
   "id": "e77e6db8",
   "metadata": {},
   "outputs": [],
   "source": [
    "X = iris.data\n",
    "y = iris.target"
   ]
  },
  {
   "cell_type": "code",
   "execution_count": 16,
   "id": "46d76545",
   "metadata": {},
   "outputs": [],
   "source": [
    "# Разбиение данных на обучающий и тестовый наборы"
   ]
  },
  {
   "cell_type": "code",
   "execution_count": 17,
   "id": "756edc22",
   "metadata": {},
   "outputs": [],
   "source": [
    "X_train, X_test, y_train, y_test = train_test_split(X, y, test_size=0.3, random_state=12345)"
   ]
  },
  {
   "cell_type": "code",
   "execution_count": 18,
   "id": "be3f17f3",
   "metadata": {},
   "outputs": [],
   "source": [
    "# Создание объекта классификатора SVM с линейным ядром"
   ]
  },
  {
   "cell_type": "code",
   "execution_count": 19,
   "id": "58c4877b",
   "metadata": {},
   "outputs": [],
   "source": [
    "clf = svm.SVC(kernel='linear')"
   ]
  },
  {
   "cell_type": "code",
   "execution_count": 20,
   "id": "11f611a8",
   "metadata": {},
   "outputs": [],
   "source": [
    "# Обучение модели на обучающих данных"
   ]
  },
  {
   "cell_type": "code",
   "execution_count": 21,
   "id": "48ddf789",
   "metadata": {},
   "outputs": [
    {
     "data": {
      "text/plain": [
       "SVC(kernel='linear')"
      ]
     },
     "execution_count": 21,
     "metadata": {},
     "output_type": "execute_result"
    }
   ],
   "source": [
    "clf.fit(X_train, y_train)"
   ]
  },
  {
   "cell_type": "code",
   "execution_count": 22,
   "id": "4393909e",
   "metadata": {},
   "outputs": [],
   "source": [
    "# Прогнозирование меток классов для тестовых данных"
   ]
  },
  {
   "cell_type": "code",
   "execution_count": 23,
   "id": "6f86ffe1",
   "metadata": {},
   "outputs": [],
   "source": [
    "y_pred = clf.predict(X_test)"
   ]
  },
  {
   "cell_type": "code",
   "execution_count": 24,
   "id": "b6353406",
   "metadata": {},
   "outputs": [],
   "source": [
    "# Оценка качества модели с помощью метрики точности (accuracy score)"
   ]
  },
  {
   "cell_type": "code",
   "execution_count": 25,
   "id": "20efa7f9",
   "metadata": {},
   "outputs": [
    {
     "name": "stdout",
     "output_type": "stream",
     "text": [
      "Accuracy: 0.9777777777777777\n"
     ]
    }
   ],
   "source": [
    "y_pred\n",
    "print(\"Accuracy:\", accuracy_score(y_test, y_pred))"
   ]
  }
 ],
 "metadata": {
  "kernelspec": {
   "display_name": "Python 3 (ipykernel)",
   "language": "python",
   "name": "python3"
  },
  "language_info": {
   "codemirror_mode": {
    "name": "ipython",
    "version": 3
   },
   "file_extension": ".py",
   "mimetype": "text/x-python",
   "name": "python",
   "nbconvert_exporter": "python",
   "pygments_lexer": "ipython3",
   "version": "3.9.12"
  }
 },
 "nbformat": 4,
 "nbformat_minor": 5
}
