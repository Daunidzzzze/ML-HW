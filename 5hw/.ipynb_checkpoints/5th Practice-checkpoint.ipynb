{
 "cells": [
  {
   "cell_type": "code",
   "execution_count": null,
   "id": "e6061f64",
   "metadata": {},
   "outputs": [],
   "source": [
    "# Импорт необходимых библиотек"
   ]
  },
  {
   "cell_type": "code",
   "execution_count": 8,
   "id": "c5d23c61",
   "metadata": {},
   "outputs": [],
   "source": [
    "import numpy as np\n",
    "import pandas as pd\n",
    "pd.options.mode.chained_assignment = None\n",
    "\n",
    "from sklearn.model_selection import train_test_split\n",
    "from sklearn.preprocessing import StandardScaler\n",
    "from sklearn.preprocessing import OrdinalEncoder\n",
    "from sklearn.metrics import confusion_matrix, accuracy_score, classification_report\n",
    "from sklearn.linear_model import LogisticRegression\n",
    "from sklearn.dummy import DummyClassifier\n",
    "\n",
    "import torch\n",
    "from torch import nn\n",
    "from torch.utils.data import DataLoader, Dataset\n",
    "from torch.optim import Adam\n",
    "from torch.optim.lr_scheduler import ReduceLROnPlateau"
   ]
  },
  {
   "cell_type": "code",
   "execution_count": null,
   "id": "3d658ffe",
   "metadata": {},
   "outputs": [],
   "source": [
    "# Чтение данных из файлов 'train.csv' и 'test.csv' в объекты DataFrame"
   ]
  },
  {
   "cell_type": "code",
   "execution_count": 9,
   "id": "cf8c3ac9",
   "metadata": {},
   "outputs": [],
   "source": [
    "df = pd.read_csv('train.csv')\n",
    "df_test = pd.read_csv('test.csv')"
   ]
  },
  {
   "cell_type": "code",
   "execution_count": null,
   "id": "7f4752c4",
   "metadata": {},
   "outputs": [],
   "source": [
    "# Вывод первых нескольких строк DataFrame df"
   ]
  },
  {
   "cell_type": "code",
   "execution_count": 10,
   "id": "b6e1b06f",
   "metadata": {},
   "outputs": [
    {
     "data": {
      "text/html": [
       "<div>\n",
       "<style scoped>\n",
       "    .dataframe tbody tr th:only-of-type {\n",
       "        vertical-align: middle;\n",
       "    }\n",
       "\n",
       "    .dataframe tbody tr th {\n",
       "        vertical-align: top;\n",
       "    }\n",
       "\n",
       "    .dataframe thead th {\n",
       "        text-align: right;\n",
       "    }\n",
       "</style>\n",
       "<table border=\"1\" class=\"dataframe\">\n",
       "  <thead>\n",
       "    <tr style=\"text-align: right;\">\n",
       "      <th></th>\n",
       "      <th>PassengerId</th>\n",
       "      <th>Survived</th>\n",
       "      <th>Pclass</th>\n",
       "      <th>Name</th>\n",
       "      <th>Sex</th>\n",
       "      <th>Age</th>\n",
       "      <th>SibSp</th>\n",
       "      <th>Parch</th>\n",
       "      <th>Ticket</th>\n",
       "      <th>Fare</th>\n",
       "      <th>Cabin</th>\n",
       "      <th>Embarked</th>\n",
       "    </tr>\n",
       "  </thead>\n",
       "  <tbody>\n",
       "    <tr>\n",
       "      <th>0</th>\n",
       "      <td>1</td>\n",
       "      <td>0</td>\n",
       "      <td>3</td>\n",
       "      <td>Braund, Mr. Owen Harris</td>\n",
       "      <td>male</td>\n",
       "      <td>22.0</td>\n",
       "      <td>1</td>\n",
       "      <td>0</td>\n",
       "      <td>A/5 21171</td>\n",
       "      <td>7.2500</td>\n",
       "      <td>NaN</td>\n",
       "      <td>S</td>\n",
       "    </tr>\n",
       "    <tr>\n",
       "      <th>1</th>\n",
       "      <td>2</td>\n",
       "      <td>1</td>\n",
       "      <td>1</td>\n",
       "      <td>Cumings, Mrs. John Bradley (Florence Briggs Th...</td>\n",
       "      <td>female</td>\n",
       "      <td>38.0</td>\n",
       "      <td>1</td>\n",
       "      <td>0</td>\n",
       "      <td>PC 17599</td>\n",
       "      <td>71.2833</td>\n",
       "      <td>C85</td>\n",
       "      <td>C</td>\n",
       "    </tr>\n",
       "    <tr>\n",
       "      <th>2</th>\n",
       "      <td>3</td>\n",
       "      <td>1</td>\n",
       "      <td>3</td>\n",
       "      <td>Heikkinen, Miss. Laina</td>\n",
       "      <td>female</td>\n",
       "      <td>26.0</td>\n",
       "      <td>0</td>\n",
       "      <td>0</td>\n",
       "      <td>STON/O2. 3101282</td>\n",
       "      <td>7.9250</td>\n",
       "      <td>NaN</td>\n",
       "      <td>S</td>\n",
       "    </tr>\n",
       "    <tr>\n",
       "      <th>3</th>\n",
       "      <td>4</td>\n",
       "      <td>1</td>\n",
       "      <td>1</td>\n",
       "      <td>Futrelle, Mrs. Jacques Heath (Lily May Peel)</td>\n",
       "      <td>female</td>\n",
       "      <td>35.0</td>\n",
       "      <td>1</td>\n",
       "      <td>0</td>\n",
       "      <td>113803</td>\n",
       "      <td>53.1000</td>\n",
       "      <td>C123</td>\n",
       "      <td>S</td>\n",
       "    </tr>\n",
       "    <tr>\n",
       "      <th>4</th>\n",
       "      <td>5</td>\n",
       "      <td>0</td>\n",
       "      <td>3</td>\n",
       "      <td>Allen, Mr. William Henry</td>\n",
       "      <td>male</td>\n",
       "      <td>35.0</td>\n",
       "      <td>0</td>\n",
       "      <td>0</td>\n",
       "      <td>373450</td>\n",
       "      <td>8.0500</td>\n",
       "      <td>NaN</td>\n",
       "      <td>S</td>\n",
       "    </tr>\n",
       "  </tbody>\n",
       "</table>\n",
       "</div>"
      ],
      "text/plain": [
       "   PassengerId  Survived  Pclass  \\\n",
       "0            1         0       3   \n",
       "1            2         1       1   \n",
       "2            3         1       3   \n",
       "3            4         1       1   \n",
       "4            5         0       3   \n",
       "\n",
       "                                                Name     Sex   Age  SibSp  \\\n",
       "0                            Braund, Mr. Owen Harris    male  22.0      1   \n",
       "1  Cumings, Mrs. John Bradley (Florence Briggs Th...  female  38.0      1   \n",
       "2                             Heikkinen, Miss. Laina  female  26.0      0   \n",
       "3       Futrelle, Mrs. Jacques Heath (Lily May Peel)  female  35.0      1   \n",
       "4                           Allen, Mr. William Henry    male  35.0      0   \n",
       "\n",
       "   Parch            Ticket     Fare Cabin Embarked  \n",
       "0      0         A/5 21171   7.2500   NaN        S  \n",
       "1      0          PC 17599  71.2833   C85        C  \n",
       "2      0  STON/O2. 3101282   7.9250   NaN        S  \n",
       "3      0            113803  53.1000  C123        S  \n",
       "4      0            373450   8.0500   NaN        S  "
      ]
     },
     "execution_count": 10,
     "metadata": {},
     "output_type": "execute_result"
    }
   ],
   "source": [
    "df.head()"
   ]
  },
  {
   "cell_type": "code",
   "execution_count": null,
   "id": "5c63048f",
   "metadata": {},
   "outputs": [],
   "source": [
    "# Информация о структуре и типах данных в DataFrame df"
   ]
  },
  {
   "cell_type": "code",
   "execution_count": 11,
   "id": "6bad366b",
   "metadata": {},
   "outputs": [
    {
     "name": "stdout",
     "output_type": "stream",
     "text": [
      "<class 'pandas.core.frame.DataFrame'>\n",
      "RangeIndex: 891 entries, 0 to 890\n",
      "Data columns (total 12 columns):\n",
      " #   Column       Non-Null Count  Dtype  \n",
      "---  ------       --------------  -----  \n",
      " 0   PassengerId  891 non-null    int64  \n",
      " 1   Survived     891 non-null    int64  \n",
      " 2   Pclass       891 non-null    int64  \n",
      " 3   Name         891 non-null    object \n",
      " 4   Sex          891 non-null    object \n",
      " 5   Age          714 non-null    float64\n",
      " 6   SibSp        891 non-null    int64  \n",
      " 7   Parch        891 non-null    int64  \n",
      " 8   Ticket       891 non-null    object \n",
      " 9   Fare         891 non-null    float64\n",
      " 10  Cabin        204 non-null    object \n",
      " 11  Embarked     889 non-null    object \n",
      "dtypes: float64(2), int64(5), object(5)\n",
      "memory usage: 83.7+ KB\n"
     ]
    }
   ],
   "source": [
    "df.info()"
   ]
  },
  {
   "cell_type": "code",
   "execution_count": null,
   "id": "879a3165",
   "metadata": {},
   "outputs": [],
   "source": [
    "# Функция для создания новых признаков на основе существующих"
   ]
  },
  {
   "cell_type": "code",
   "execution_count": 12,
   "id": "19eebc58",
   "metadata": {},
   "outputs": [],
   "source": [
    "def create_features(df):\n",
    "    df['Age'] = df['Age'].fillna(df['Age'].median()) # Заполнение пропущенных значений в столбце 'Age' медианным значением\n",
    "    df['Embarked'] = df['Embarked'].fillna(df['Embarked'].mode()[0]) # Заполнение пропущенных значений в столбце 'Embarked' наиболее часто встречающимся значением\n",
    "    df['FamilySize'] = df['SibSp'] + df['Parch'] + 1 # Создание нового столбца 'FamilySize', содержащего информацию о размере семьи\n",
    "    df['IsAlone'] = 1 # Создание нового столбца 'IsAlone', содержащего информацию о том, является ли пассажир одиноким\n",
    "    df['IsAlone'].loc[df['FamilySize'] > 1] = 0\n",
    "    df['Title'] = df['Name'].str.split(\", \", expand=True)[1].str.split(\".\", expand=True)[0] # Создание нового столбца 'Title', содержащего информацию о заголовке пассажира (Mr., Mrs., и т.д.)\n",
    "\n",
    "    df.drop(['Cabin', 'Ticket', 'Name', 'PassengerId'], axis=1, inplace=True) # Удаление ненужных столбцов 'Cabin', 'Ticket', 'Name', 'PassengerId'"
   ]
  },
  {
   "cell_type": "code",
   "execution_count": null,
   "id": "cf0d3790",
   "metadata": {},
   "outputs": [],
   "source": [
    "# Применение функции create_features к DataFrame df и df_test"
   ]
  },
  {
   "cell_type": "code",
   "execution_count": 13,
   "id": "9052009e",
   "metadata": {},
   "outputs": [],
   "source": [
    "create_features(df)\n",
    "create_features(df_test)"
   ]
  },
  {
   "cell_type": "code",
   "execution_count": null,
   "id": "79d10d19",
   "metadata": {},
   "outputs": [],
   "source": [
    "# Вывод первых нескольких строк DataFrame df"
   ]
  },
  {
   "cell_type": "code",
   "execution_count": 14,
   "id": "fb8becce",
   "metadata": {},
   "outputs": [
    {
     "data": {
      "text/html": [
       "<div>\n",
       "<style scoped>\n",
       "    .dataframe tbody tr th:only-of-type {\n",
       "        vertical-align: middle;\n",
       "    }\n",
       "\n",
       "    .dataframe tbody tr th {\n",
       "        vertical-align: top;\n",
       "    }\n",
       "\n",
       "    .dataframe thead th {\n",
       "        text-align: right;\n",
       "    }\n",
       "</style>\n",
       "<table border=\"1\" class=\"dataframe\">\n",
       "  <thead>\n",
       "    <tr style=\"text-align: right;\">\n",
       "      <th></th>\n",
       "      <th>Survived</th>\n",
       "      <th>Pclass</th>\n",
       "      <th>Sex</th>\n",
       "      <th>Age</th>\n",
       "      <th>SibSp</th>\n",
       "      <th>Parch</th>\n",
       "      <th>Fare</th>\n",
       "      <th>Embarked</th>\n",
       "      <th>FamilySize</th>\n",
       "      <th>IsAlone</th>\n",
       "      <th>Title</th>\n",
       "    </tr>\n",
       "  </thead>\n",
       "  <tbody>\n",
       "    <tr>\n",
       "      <th>0</th>\n",
       "      <td>0</td>\n",
       "      <td>3</td>\n",
       "      <td>male</td>\n",
       "      <td>22.0</td>\n",
       "      <td>1</td>\n",
       "      <td>0</td>\n",
       "      <td>7.2500</td>\n",
       "      <td>S</td>\n",
       "      <td>2</td>\n",
       "      <td>0</td>\n",
       "      <td>Mr</td>\n",
       "    </tr>\n",
       "    <tr>\n",
       "      <th>1</th>\n",
       "      <td>1</td>\n",
       "      <td>1</td>\n",
       "      <td>female</td>\n",
       "      <td>38.0</td>\n",
       "      <td>1</td>\n",
       "      <td>0</td>\n",
       "      <td>71.2833</td>\n",
       "      <td>C</td>\n",
       "      <td>2</td>\n",
       "      <td>0</td>\n",
       "      <td>Mrs</td>\n",
       "    </tr>\n",
       "    <tr>\n",
       "      <th>2</th>\n",
       "      <td>1</td>\n",
       "      <td>3</td>\n",
       "      <td>female</td>\n",
       "      <td>26.0</td>\n",
       "      <td>0</td>\n",
       "      <td>0</td>\n",
       "      <td>7.9250</td>\n",
       "      <td>S</td>\n",
       "      <td>1</td>\n",
       "      <td>1</td>\n",
       "      <td>Miss</td>\n",
       "    </tr>\n",
       "    <tr>\n",
       "      <th>3</th>\n",
       "      <td>1</td>\n",
       "      <td>1</td>\n",
       "      <td>female</td>\n",
       "      <td>35.0</td>\n",
       "      <td>1</td>\n",
       "      <td>0</td>\n",
       "      <td>53.1000</td>\n",
       "      <td>S</td>\n",
       "      <td>2</td>\n",
       "      <td>0</td>\n",
       "      <td>Mrs</td>\n",
       "    </tr>\n",
       "    <tr>\n",
       "      <th>4</th>\n",
       "      <td>0</td>\n",
       "      <td>3</td>\n",
       "      <td>male</td>\n",
       "      <td>35.0</td>\n",
       "      <td>0</td>\n",
       "      <td>0</td>\n",
       "      <td>8.0500</td>\n",
       "      <td>S</td>\n",
       "      <td>1</td>\n",
       "      <td>1</td>\n",
       "      <td>Mr</td>\n",
       "    </tr>\n",
       "  </tbody>\n",
       "</table>\n",
       "</div>"
      ],
      "text/plain": [
       "   Survived  Pclass     Sex   Age  SibSp  Parch     Fare Embarked  FamilySize  \\\n",
       "0         0       3    male  22.0      1      0   7.2500        S           2   \n",
       "1         1       1  female  38.0      1      0  71.2833        C           2   \n",
       "2         1       3  female  26.0      0      0   7.9250        S           1   \n",
       "3         1       1  female  35.0      1      0  53.1000        S           2   \n",
       "4         0       3    male  35.0      0      0   8.0500        S           1   \n",
       "\n",
       "   IsAlone Title  \n",
       "0        0    Mr  \n",
       "1        0   Mrs  \n",
       "2        1  Miss  \n",
       "3        0   Mrs  \n",
       "4        1    Mr  "
      ]
     },
     "execution_count": 14,
     "metadata": {},
     "output_type": "execute_result"
    }
   ],
   "source": [
    "df.head()"
   ]
  },
  {
   "cell_type": "code",
   "execution_count": null,
   "id": "460c7886",
   "metadata": {},
   "outputs": [],
   "source": [
    "# Информация о структуре и типах данных в DataFrame df"
   ]
  },
  {
   "cell_type": "code",
   "execution_count": 15,
   "id": "e18aed75",
   "metadata": {},
   "outputs": [
    {
     "name": "stdout",
     "output_type": "stream",
     "text": [
      "<class 'pandas.core.frame.DataFrame'>\n",
      "RangeIndex: 891 entries, 0 to 890\n",
      "Data columns (total 11 columns):\n",
      " #   Column      Non-Null Count  Dtype  \n",
      "---  ------      --------------  -----  \n",
      " 0   Survived    891 non-null    int64  \n",
      " 1   Pclass      891 non-null    int64  \n",
      " 2   Sex         891 non-null    object \n",
      " 3   Age         891 non-null    float64\n",
      " 4   SibSp       891 non-null    int64  \n",
      " 5   Parch       891 non-null    int64  \n",
      " 6   Fare        891 non-null    float64\n",
      " 7   Embarked    891 non-null    object \n",
      " 8   FamilySize  891 non-null    int64  \n",
      " 9   IsAlone     891 non-null    int64  \n",
      " 10  Title       891 non-null    object \n",
      "dtypes: float64(2), int64(6), object(3)\n",
      "memory usage: 76.7+ KB\n"
     ]
    }
   ],
   "source": [
    "df.info()"
   ]
  },
  {
   "cell_type": "code",
   "execution_count": null,
   "id": "f1d6c968",
   "metadata": {},
   "outputs": [],
   "source": [
    "# Кодирование категориальных признаков с помощью OrdinalEncoder"
   ]
  },
  {
   "cell_type": "code",
   "execution_count": 16,
   "id": "153c20f0",
   "metadata": {},
   "outputs": [],
   "source": [
    "oe = OrdinalEncoder(unknown_value=-1, handle_unknown='use_encoded_value')\n",
    "cat = df.select_dtypes(include='object').columns.tolist()\n",
    "df[cat] = oe.fit_transform(df[cat])\n",
    "df_test[cat] = oe.transform(df_test[cat])"
   ]
  },
  {
   "cell_type": "code",
   "execution_count": 25,
   "id": "6919190e",
   "metadata": {},
   "outputs": [],
   "source": [
    "# Удаление строк с пропущенными значениями в DataFrame df\n",
    "# Заполнение пропущенных значений средними значениями в DataFrame df_test"
   ]
  },
  {
   "cell_type": "code",
   "execution_count": 17,
   "id": "3bbae88d",
   "metadata": {},
   "outputs": [],
   "source": [
    "df.dropna(inplace=True)\n",
    "df_test.fillna(df_test.mean(), inplace=True)"
   ]
  },
  {
   "cell_type": "code",
   "execution_count": null,
   "id": "c068bf4f",
   "metadata": {},
   "outputs": [],
   "source": [
    "# Разделение данных на признаки (X) и целевую переменную (y) в DataFrame df"
   ]
  },
  {
   "cell_type": "code",
   "execution_count": 18,
   "id": "d319e1b9",
   "metadata": {},
   "outputs": [],
   "source": [
    "X = df.drop('Survived', axis=1)\n",
    "y = df['Survived']"
   ]
  },
  {
   "cell_type": "code",
   "execution_count": null,
   "id": "7d67feb7",
   "metadata": {},
   "outputs": [],
   "source": [
    "# Разделение данных на обучающую и валидационную выборки с помощью train_test_split"
   ]
  },
  {
   "cell_type": "code",
   "execution_count": 19,
   "id": "2755c516",
   "metadata": {},
   "outputs": [],
   "source": [
    "X_train, X_valid, y_train, y_valid = train_test_split(X, y, test_size=0.2, random_state=42)"
   ]
  },
  {
   "cell_type": "code",
   "execution_count": null,
   "id": "a3d2d35d",
   "metadata": {},
   "outputs": [],
   "source": [
    "# Масштабирование числовых признаков с помощью StandardScaler"
   ]
  },
  {
   "cell_type": "code",
   "execution_count": 20,
   "id": "30713a09",
   "metadata": {},
   "outputs": [],
   "source": [
    "scaler = StandardScaler()\n",
    "X_train[['Age', 'Fare']] = scaler.fit_transform(X_train[['Age', 'Fare']])\n",
    "X_valid[['Age', 'Fare']] = scaler.transform(X_valid[['Age', 'Fare']])\n",
    "df_test[['Age', 'Fare']] = scaler.transform(df_test[['Age', 'Fare']])"
   ]
  },
  {
   "cell_type": "code",
   "execution_count": null,
   "id": "67c35370",
   "metadata": {},
   "outputs": [],
   "source": [
    "# Функция для обучения модели и вывода результатов"
   ]
  },
  {
   "cell_type": "code",
   "execution_count": 21,
   "id": "7decde6f",
   "metadata": {},
   "outputs": [],
   "source": [
    "def fit_print(model, X_train, y_train, X_valid, y_valid):\n",
    "    model.fit(X_train, y_train) # Обучение модели\n",
    "    y_pred = model.predict(X_valid) # Получение предсказаний на валидационной выборке\n",
    "    print(confusion_matrix(y_valid, y_pred)) # Вывод матрицы ошибок\n",
    "    print(accuracy_score(y_valid, y_pred)) # Вывод значения точности\n",
    "    print(classification_report(y_valid, y_pred))# Вывод отчета о классификации"
   ]
  },
  {
   "cell_type": "code",
   "execution_count": null,
   "id": "958e638e",
   "metadata": {},
   "outputs": [],
   "source": [
    "# Создание и обучение модели логистической регрессии"
   ]
  },
  {
   "cell_type": "code",
   "execution_count": 22,
   "id": "a340994c",
   "metadata": {},
   "outputs": [
    {
     "name": "stdout",
     "output_type": "stream",
     "text": [
      "[[89 16]\n",
      " [21 53]]\n",
      "0.7932960893854749\n",
      "              precision    recall  f1-score   support\n",
      "\n",
      "           0       0.81      0.85      0.83       105\n",
      "           1       0.77      0.72      0.74        74\n",
      "\n",
      "    accuracy                           0.79       179\n",
      "   macro avg       0.79      0.78      0.78       179\n",
      "weighted avg       0.79      0.79      0.79       179\n",
      "\n"
     ]
    },
    {
     "name": "stderr",
     "output_type": "stream",
     "text": [
      "C:\\ProgramData\\Anaconda3\\lib\\site-packages\\sklearn\\linear_model\\_logistic.py:814: ConvergenceWarning: lbfgs failed to converge (status=1):\n",
      "STOP: TOTAL NO. of ITERATIONS REACHED LIMIT.\n",
      "\n",
      "Increase the number of iterations (max_iter) or scale the data as shown in:\n",
      "    https://scikit-learn.org/stable/modules/preprocessing.html\n",
      "Please also refer to the documentation for alternative solver options:\n",
      "    https://scikit-learn.org/stable/modules/linear_model.html#logistic-regression\n",
      "  n_iter_i = _check_optimize_result(\n"
     ]
    }
   ],
   "source": [
    "lr = LogisticRegression()\n",
    "fit_print(lr, X_train, y_train, X_valid, y_valid)"
   ]
  },
  {
   "cell_type": "code",
   "execution_count": null,
   "id": "4ea4d518",
   "metadata": {},
   "outputs": [],
   "source": [
    "# Создание и обучение модели с использованием дамми классификатора"
   ]
  },
  {
   "cell_type": "code",
   "execution_count": 23,
   "id": "5bf205b2",
   "metadata": {},
   "outputs": [
    {
     "name": "stdout",
     "output_type": "stream",
     "text": [
      "[[105   0]\n",
      " [ 74   0]]\n",
      "0.5865921787709497\n",
      "              precision    recall  f1-score   support\n",
      "\n",
      "           0       0.59      1.00      0.74       105\n",
      "           1       0.00      0.00      0.00        74\n",
      "\n",
      "    accuracy                           0.59       179\n",
      "   macro avg       0.29      0.50      0.37       179\n",
      "weighted avg       0.34      0.59      0.43       179\n",
      "\n"
     ]
    },
    {
     "name": "stderr",
     "output_type": "stream",
     "text": [
      "C:\\ProgramData\\Anaconda3\\lib\\site-packages\\sklearn\\metrics\\_classification.py:1318: UndefinedMetricWarning: Precision and F-score are ill-defined and being set to 0.0 in labels with no predicted samples. Use `zero_division` parameter to control this behavior.\n",
      "  _warn_prf(average, modifier, msg_start, len(result))\n",
      "C:\\ProgramData\\Anaconda3\\lib\\site-packages\\sklearn\\metrics\\_classification.py:1318: UndefinedMetricWarning: Precision and F-score are ill-defined and being set to 0.0 in labels with no predicted samples. Use `zero_division` parameter to control this behavior.\n",
      "  _warn_prf(average, modifier, msg_start, len(result))\n",
      "C:\\ProgramData\\Anaconda3\\lib\\site-packages\\sklearn\\metrics\\_classification.py:1318: UndefinedMetricWarning: Precision and F-score are ill-defined and being set to 0.0 in labels with no predicted samples. Use `zero_division` parameter to control this behavior.\n",
      "  _warn_prf(average, modifier, msg_start, len(result))\n"
     ]
    }
   ],
   "source": [
    "dummy = DummyClassifier()\n",
    "fit_print(dummy, X_train, y_train, X_valid, y_valid)"
   ]
  },
  {
   "cell_type": "code",
   "execution_count": null,
   "id": "1e72cf40",
   "metadata": {},
   "outputs": [],
   "source": [
    "# Определение класса модели нейронной сети"
   ]
  },
  {
   "cell_type": "code",
   "execution_count": 24,
   "id": "025982bc",
   "metadata": {},
   "outputs": [
    {
     "name": "stdout",
     "output_type": "stream",
     "text": [
      "Epoch 1/100 | Train loss: 0.7771 | Valid loss: 0.6608\n",
      "Epoch 2/100 | Train loss: 0.6324 | Valid loss: 0.6474\n",
      "Epoch 3/100 | Train loss: 0.6233 | Valid loss: 0.6378\n",
      "Epoch 4/100 | Train loss: 0.6152 | Valid loss: 0.6182\n",
      "Epoch 5/100 | Train loss: 0.6071 | Valid loss: 0.6006\n",
      "Epoch 6/100 | Train loss: 0.5983 | Valid loss: 0.5772\n",
      "Epoch 7/100 | Train loss: 0.5837 | Valid loss: 0.5533\n",
      "Epoch 8/100 | Train loss: 0.5556 | Valid loss: 0.5319\n",
      "Epoch 9/100 | Train loss: 0.5399 | Valid loss: 0.5171\n",
      "Epoch 10/100 | Train loss: 0.5301 | Valid loss: 0.5050\n",
      "Epoch 11/100 | Train loss: 0.5170 | Valid loss: 0.4899\n",
      "Epoch 12/100 | Train loss: 0.5148 | Valid loss: 0.4788\n",
      "Epoch 13/100 | Train loss: 0.5022 | Valid loss: 0.4714\n",
      "Epoch 14/100 | Train loss: 0.4940 | Valid loss: 0.4626\n",
      "Epoch 15/100 | Train loss: 0.4800 | Valid loss: 0.4571\n",
      "Epoch 16/100 | Train loss: 0.4833 | Valid loss: 0.4501\n",
      "Epoch 17/100 | Train loss: 0.4626 | Valid loss: 0.4475\n",
      "Epoch 18/100 | Train loss: 0.4589 | Valid loss: 0.4406\n",
      "Epoch 19/100 | Train loss: 0.4595 | Valid loss: 0.4384\n",
      "Epoch 20/100 | Train loss: 0.4564 | Valid loss: 0.4373\n",
      "Epoch 21/100 | Train loss: 0.4420 | Valid loss: 0.4391\n",
      "Epoch 22/100 | Train loss: 0.4339 | Valid loss: 0.4312\n",
      "Epoch 23/100 | Train loss: 0.4383 | Valid loss: 0.4379\n",
      "Epoch 24/100 | Train loss: 0.4256 | Valid loss: 0.4311\n",
      "Epoch 25/100 | Train loss: 0.4303 | Valid loss: 0.4279\n",
      "Epoch 26/100 | Train loss: 0.4233 | Valid loss: 0.4316\n",
      "Epoch 27/100 | Train loss: 0.4178 | Valid loss: 0.4303\n",
      "Epoch 28/100 | Train loss: 0.4170 | Valid loss: 0.4302\n",
      "Epoch 00029: reducing learning rate of group 0 to 1.0000e-04.\n",
      "Epoch 29/100 | Train loss: 0.4110 | Valid loss: 0.4311\n",
      "Epoch 30/100 | Train loss: 0.4164 | Valid loss: 0.4313\n",
      "Epoch 31/100 | Train loss: 0.4202 | Valid loss: 0.4313\n",
      "Epoch 32/100 | Train loss: 0.4222 | Valid loss: 0.4312\n",
      "Epoch 00033: reducing learning rate of group 0 to 1.0000e-05.\n",
      "Epoch 33/100 | Train loss: 0.4144 | Valid loss: 0.4313\n",
      "Epoch 34/100 | Train loss: 0.4058 | Valid loss: 0.4313\n",
      "Epoch 35/100 | Train loss: 0.4083 | Valid loss: 0.4313\n",
      "Epoch 36/100 | Train loss: 0.4141 | Valid loss: 0.4312\n",
      "Epoch 00037: reducing learning rate of group 0 to 1.0000e-06.\n",
      "Epoch 37/100 | Train loss: 0.4101 | Valid loss: 0.4312\n",
      "Epoch 38/100 | Train loss: 0.4126 | Valid loss: 0.4312\n",
      "Epoch 39/100 | Train loss: 0.4125 | Valid loss: 0.4312\n",
      "Epoch 40/100 | Train loss: 0.4192 | Valid loss: 0.4312\n",
      "Epoch 00041: reducing learning rate of group 0 to 1.0000e-07.\n",
      "Epoch 41/100 | Train loss: 0.4106 | Valid loss: 0.4312\n",
      "Epoch 42/100 | Train loss: 0.4214 | Valid loss: 0.4312\n",
      "Epoch 43/100 | Train loss: 0.4089 | Valid loss: 0.4312\n",
      "Epoch 44/100 | Train loss: 0.4288 | Valid loss: 0.4312\n",
      "Epoch 00045: reducing learning rate of group 0 to 1.0000e-08.\n",
      "Epoch 45/100 | Train loss: 0.4213 | Valid loss: 0.4312\n",
      "Epoch 46/100 | Train loss: 0.4109 | Valid loss: 0.4312\n",
      "Epoch 47/100 | Train loss: 0.4096 | Valid loss: 0.4312\n",
      "Epoch 48/100 | Train loss: 0.4083 | Valid loss: 0.4312\n",
      "Epoch 49/100 | Train loss: 0.4232 | Valid loss: 0.4312\n",
      "Epoch 50/100 | Train loss: 0.4216 | Valid loss: 0.4312\n",
      "Epoch 51/100 | Train loss: 0.4229 | Valid loss: 0.4312\n",
      "Epoch 52/100 | Train loss: 0.4143 | Valid loss: 0.4312\n",
      "Epoch 53/100 | Train loss: 0.4076 | Valid loss: 0.4312\n",
      "Epoch 54/100 | Train loss: 0.4100 | Valid loss: 0.4312\n",
      "Epoch 55/100 | Train loss: 0.4205 | Valid loss: 0.4312\n",
      "Epoch 56/100 | Train loss: 0.4135 | Valid loss: 0.4312\n",
      "Epoch 57/100 | Train loss: 0.4163 | Valid loss: 0.4312\n",
      "Epoch 58/100 | Train loss: 0.4118 | Valid loss: 0.4312\n",
      "Epoch 59/100 | Train loss: 0.4138 | Valid loss: 0.4312\n",
      "Epoch 60/100 | Train loss: 0.4186 | Valid loss: 0.4312\n",
      "Epoch 61/100 | Train loss: 0.4120 | Valid loss: 0.4312\n",
      "Epoch 62/100 | Train loss: 0.4117 | Valid loss: 0.4312\n",
      "Epoch 63/100 | Train loss: 0.4099 | Valid loss: 0.4312\n",
      "Epoch 64/100 | Train loss: 0.4168 | Valid loss: 0.4312\n",
      "Epoch 65/100 | Train loss: 0.4164 | Valid loss: 0.4312\n",
      "Epoch 66/100 | Train loss: 0.4166 | Valid loss: 0.4312\n",
      "Epoch 67/100 | Train loss: 0.4156 | Valid loss: 0.4312\n",
      "Epoch 68/100 | Train loss: 0.4214 | Valid loss: 0.4312\n",
      "Epoch 69/100 | Train loss: 0.4052 | Valid loss: 0.4312\n",
      "Epoch 70/100 | Train loss: 0.4147 | Valid loss: 0.4312\n",
      "Epoch 71/100 | Train loss: 0.4094 | Valid loss: 0.4312\n",
      "Epoch 72/100 | Train loss: 0.4213 | Valid loss: 0.4312\n",
      "Epoch 73/100 | Train loss: 0.4093 | Valid loss: 0.4312\n",
      "Epoch 74/100 | Train loss: 0.4115 | Valid loss: 0.4312\n",
      "Epoch 75/100 | Train loss: 0.4197 | Valid loss: 0.4312\n",
      "Epoch 76/100 | Train loss: 0.4116 | Valid loss: 0.4312\n",
      "Epoch 77/100 | Train loss: 0.4053 | Valid loss: 0.4312\n",
      "Epoch 78/100 | Train loss: 0.4063 | Valid loss: 0.4312\n",
      "Epoch 79/100 | Train loss: 0.4093 | Valid loss: 0.4312\n",
      "Epoch 80/100 | Train loss: 0.4145 | Valid loss: 0.4312\n",
      "Epoch 81/100 | Train loss: 0.4111 | Valid loss: 0.4312\n",
      "Epoch 82/100 | Train loss: 0.4128 | Valid loss: 0.4312\n",
      "Epoch 83/100 | Train loss: 0.4145 | Valid loss: 0.4312\n",
      "Epoch 84/100 | Train loss: 0.4123 | Valid loss: 0.4312\n",
      "Epoch 85/100 | Train loss: 0.4235 | Valid loss: 0.4312\n",
      "Epoch 86/100 | Train loss: 0.4127 | Valid loss: 0.4312\n",
      "Epoch 87/100 | Train loss: 0.4083 | Valid loss: 0.4312\n",
      "Epoch 88/100 | Train loss: 0.4141 | Valid loss: 0.4312\n",
      "Epoch 89/100 | Train loss: 0.4160 | Valid loss: 0.4312\n",
      "Epoch 90/100 | Train loss: 0.4100 | Valid loss: 0.4312\n",
      "Epoch 91/100 | Train loss: 0.4275 | Valid loss: 0.4312\n",
      "Epoch 92/100 | Train loss: 0.4081 | Valid loss: 0.4312\n",
      "Epoch 93/100 | Train loss: 0.4125 | Valid loss: 0.4312\n",
      "Epoch 94/100 | Train loss: 0.4162 | Valid loss: 0.4312\n",
      "Epoch 95/100 | Train loss: 0.4121 | Valid loss: 0.4312\n",
      "Epoch 96/100 | Train loss: 0.4263 | Valid loss: 0.4312\n",
      "Epoch 97/100 | Train loss: 0.4132 | Valid loss: 0.4312\n",
      "Epoch 98/100 | Train loss: 0.4234 | Valid loss: 0.4312\n",
      "Epoch 99/100 | Train loss: 0.4143 | Valid loss: 0.4312\n",
      "Epoch 100/100 | Train loss: 0.4042 | Valid loss: 0.4312\n",
      "[[91 14]\n",
      " [19 55]]\n",
      "0.8156424581005587\n",
      "              precision    recall  f1-score   support\n",
      "\n",
      "           0       0.83      0.87      0.85       105\n",
      "           1       0.80      0.74      0.77        74\n",
      "\n",
      "    accuracy                           0.82       179\n",
      "   macro avg       0.81      0.80      0.81       179\n",
      "weighted avg       0.81      0.82      0.81       179\n",
      "\n"
     ]
    }
   ],
   "source": [
    "class TitanicDataset(Dataset):\n",
    "    def __init__(self, X, y):\n",
    "        self.X = X\n",
    "        self.y = y\n",
    "\n",
    "    def __len__(self):\n",
    "        return len(self.y)\n",
    "\n",
    "    def __getitem__(self, idx):\n",
    "        return self.X.iloc[idx].values, self.y.iloc[idx]\n",
    "\n",
    "\n",
    "class TitanicModel(nn.Module):\n",
    "    def __init__(self, input_size):\n",
    "        super().__init__()\n",
    "        self.fc1 = nn.Linear(input_size, 32)\n",
    "        self.fc2 = nn.Linear(32, 16)\n",
    "        self.fc3 = nn.Linear(16, 1)\n",
    "        self.relu = nn.ReLU()\n",
    "        self.sigmoid = nn.Sigmoid()\n",
    "\n",
    "    def forward(self, x):\n",
    "        x = self.relu(self.fc1(x))\n",
    "        x = self.relu(self.fc2(x))\n",
    "        x = self.sigmoid(self.fc3(x))\n",
    "        return x\n",
    "\n",
    "\n",
    "def train(model, train_loader, valid_loader, criterion, optimizer, scheduler, num_epochs): # Функция для тренировки модели\n",
    "    for epoch in range(num_epochs):\n",
    "        model.train()\n",
    "        train_loss = 0\n",
    "        for X, y in train_loader:\n",
    "            optimizer.zero_grad()\n",
    "            y_pred = model(X.float())\n",
    "            loss = criterion(y_pred, y.unsqueeze(1).float())\n",
    "            loss.backward()\n",
    "            optimizer.step()\n",
    "            train_loss += loss.item()\n",
    "        train_loss /= len(train_loader)\n",
    "\n",
    "        model.eval()\n",
    "        valid_loss = 0\n",
    "        with torch.no_grad():\n",
    "            for X, y in valid_loader:\n",
    "                y_pred = model(X.float())\n",
    "                loss = criterion(y_pred, y.unsqueeze(1).float())\n",
    "                valid_loss += loss.item()\n",
    "            valid_loss /= len(valid_loader)\n",
    "\n",
    "        scheduler.step(valid_loss)\n",
    "        print(f'Epoch {epoch+1}/{num_epochs} | Train loss: {train_loss:.4f} | Valid loss: {valid_loss:.4f}')\n",
    "\n",
    "\n",
    "def predict(model, test_loader): # Функция для получения предсказаний модели\n",
    "    model.eval()\n",
    "    y_pred = []\n",
    "    with torch.no_grad():\n",
    "        for X, _ in test_loader:\n",
    "            y_pred.append(model(X.float()).squeeze(1).numpy())\n",
    "    return np.concatenate(y_pred)\n",
    "\n",
    "\n",
    "def fit_print_torch(model, X_train, y_train, X_valid, y_valid, num_epochs=10, batch_size=32, lr=0.001):# Функция для обучения и вывода результатов модели на основе нейронной сети\n",
    "    train_dataset = TitanicDataset(X_train, y_train)\n",
    "    valid_dataset = TitanicDataset(X_valid, y_valid)\n",
    "    train_loader = DataLoader(train_dataset, batch_size=batch_size, shuffle=True)\n",
    "    valid_loader = DataLoader(valid_dataset, batch_size=batch_size, shuffle=False)\n",
    "\n",
    "    criterion = nn.BCELoss()\n",
    "    optimizer = Adam(model.parameters(), lr=lr)\n",
    "    scheduler = ReduceLROnPlateau(optimizer, mode='min', patience=3, verbose=True)\n",
    "\n",
    "    train(model, train_loader, valid_loader, criterion, optimizer, scheduler, num_epochs)\n",
    "    y_pred = predict(model, valid_loader)\n",
    "    print(confusion_matrix(y_valid, y_pred.round()))\n",
    "    print(accuracy_score(y_valid, y_pred.round()))\n",
    "    print(classification_report(y_valid, y_pred.round()))\n",
    "\n",
    "\n",
    "model = TitanicModel(X_train.shape[1]) # Создание экземпляра модели нейронной сети\n",
    "fit_print_torch(model, X_train, y_train, X_valid, y_valid, num_epochs=100, batch_size=32, lr=0.001) # Обучение и вывод результатов модели"
   ]
  }
 ],
 "metadata": {
  "kernelspec": {
   "display_name": "Python 3 (ipykernel)",
   "language": "python",
   "name": "python3"
  },
  "language_info": {
   "codemirror_mode": {
    "name": "ipython",
    "version": 3
   },
   "file_extension": ".py",
   "mimetype": "text/x-python",
   "name": "python",
   "nbconvert_exporter": "python",
   "pygments_lexer": "ipython3",
   "version": "3.9.12"
  }
 },
 "nbformat": 4,
 "nbformat_minor": 5
}
